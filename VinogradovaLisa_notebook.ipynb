{
  "nbformat": 4,
  "nbformat_minor": 0,
  "metadata": {
    "colab": {
      "name": "VinogradovaLisa_notebook.ipynb",
      "version": "0.3.2",
      "provenance": [],
      "collapsed_sections": []
    },
    "kernelspec": {
      "name": "python2",
      "display_name": "Python 2"
    },
    "accelerator": "GPU"
  },
  "cells": [
    {
      "metadata": {
        "id": "DizoNgkoUN_R",
        "colab_type": "text"
      },
      "cell_type": "markdown",
      "source": [
        "Я не совсем понимаю, как вставить все коды со всеми моими попытками в один ноутбук, потому что они у меня в разных ноутбуках сохранены (один ноутбук - одна модель). Если они нужны, я могу долнительно прислать (моя почта  liza47683@gmail.com). Здесь я вставила свою самую успешную модель, но даже она набрала только 0.971, эти девять тысячных стали очень обидными. В этом небольшом тексте я постарась описывать основные изменения, которые вносила в модель, и то.ю как они влияли на результат.\n",
        "\n",
        "Я не сразу поняла, как лучше строить архитектуру, какие слои добавлять и в какой последовательности, поэтому много работ добавила на Kaggle с очень низкими результатами. Потом только поняла, что модель переобучалась на train, а на тестовой выборке показывала плохие результаты.\n",
        "В итоге, после многих проб и попыток, дополнительного чтения и помощи от лектора в виде ноутбука составила неплохую модель: Conv2D-Conv2D-MaxPooling-Dropout(0,25)-Conv2D-Conv2D-MaxPooling-Dropout(0,25)-Conv2D-Conv2D-MaxPooling-Dropout(0,25)-GlobalAveragePooling2D-Dense(128)-Dropout(0,5)-Dense(340, ’softmax’). У convolutional layers использовала kernel size (3, 3) и возрастающее количество фильтров (16, 16, 32, 32, 64, 64), использовала Leaky ReLU(0,1). Pooling layers взяла (2,2). В итоге было 123972 параметра, а размер картинок = 128, и при небольших batch_size, steps_per_epoch и epoch модель уже показала хороший результат на тестовой выборке в 0.574. Вообще, я, конечно, начала с еще более простой модели Conv2D(16, (3,3))-Conv2D(16, (3,3))-GlobalAveragePooling2D-Dense(64)-Dense(340), использовала активацию elu, кроме последней – там softmax.На тестовой выборке результат получился 0.208, при размере картинок = 128 и 25668 параметрах, но здесь я просто проверяла, правильно понимаю структуру слоев и вообще, как все работает, потому что до этого результаты были 0.005. При этом я так сконцентрировалась на архитектуре модели, что забыла нормализовать выборку, а это нужно было сделать, судя по комментариям лектора в выложенном им ноутбуке. Но результаты без нормализации были отличными, а с ней процесс обучения почему-то застопорился на score меньшем 0,01, поэтому решила это пока не применять.\n",
        "Дальше была выложена новая версия ноутбука, в которой предлагалось поупражняться с аугментацией картинок. Я пыталась, сделала, как на скринах, но модель совсем не училась, поэтому я решила отложить аугментацию и усложнить предыдущую модель, потому что было куда расти. \n",
        "По ссылке можно посмотреть, как я вставляла аугментацию. [link text](https://drive.google.com/file/d/1QXerMzw1NpuZzOFBaAFoCtX0l3y_QAGc/view?usp=sharing) [link text](https://drive.google.com/file/d/15PE0Vo_EPwRVyhGEzpg0TXSOHd8nMyka/view?usp=sharing)\n",
        " \n",
        "Расширила предыдущую модель, теперь стало вот так: Conv2D-Conv2D-MaxPooling-Dropout(0,25)-Conv2D-Conv2D-MaxPooling-Dropout(0,25)-Conv2D-Conv2D-MaxPooling-Dropout(0,25)- Conv2D-Conv2D-MaxPooling-Dropout(0,25)-GlobalAveragePooling2D-Dense(128)-Dropout(0,5)-Dense(340, ’softmax’). У convolutional layers использовала kernel size (3, 3) и возрастающее количество фильтров (16, 16, 32, 32, 64, 64, 128, 128), использовала Leaky ReLU(0,1). Pooling layers взяла (2,2). В итоге было 353604 параметра, а размер картинок = 128, и при batch_size=512, steps_per_epoch=512 и epoch=32 при обучении модель достаточно легко дошла до 0.7, а дольше застопорилась, на тестовой выборке score = 0,693 (от чего мне стало даже обидно).\n",
        "Решила все же добавить нормализацию изображений в комбинации с предыдущей архитектурой. В этот раз обучение идет гораздо лучше (по сравнению с прошлым добавлением нормализации), видимо, до этого я косячила. Обучение идет более равномерно. Но результат на тестовой выборке оказался хуже! 0,685 (снова обидно, что не дотянула до 0,7)\n",
        "\n",
        "Все же убрала нормализацию изображений. Усложнила модель с помощью Flatten и заменила последний GlobalAveragePooling2D на MaxPooling. Размеры батча, шагов и эпох пока оставила как раньше. Параметров теперь 1385796. За три эпохи на обучении моделька дошла до 0,5. Переобучится? Нет, не переобучилась! На тесте получилось 0.724. Flatten хорошо помог.\n",
        "Запустила предыдущую модель с batch_size = 512, steps_per_epoch = 800 и epoch = 40. За 10 часов (я успела на учебу и тренировку съездить) модель набрала 0.791. ОБИДНО. А модель потом отключилась.\n",
        "\n",
        "Ради эксперимента заменила Dense(128) на Dense(256). Модель тут же переобучилась. Возвращаюсь к прежней с большим количеством steps_per_epoch и epoch. Соответственно, 1000 и 90. Оставила ноутбук на ночь, он доучился до 40 эпохи и дольше силы кончились, когда проснулась восстановить уже не получилось. Top_3_accuracy была больше 0.8 несколько эпох. [link text](https://drive.google.com/file/d/112AZZwXScoDR5Ibhg2mp416IZdRzbrpc/view?usp=sharing)\n",
        " \n",
        "Дальше несколько дней я все же пыталась обучить на большом количестве steps_per_epoch и epoch свою модель. Но мне не хватило мозгов освоить чекпоинты на гугл драйве, поэтому не хватало времени дообучать модель до достойного результата.\n",
        "Добавила вот такую конструкцию:\n",
        "from keras.callbacks import ReduceLROnPlateau\n",
        "callbacks = [\n",
        "    ReduceLROnPlateau(monitor='val_loss', factor=0.1, patience=3, min_lr=10e-5, verbose=1)]\n",
        "Она была призвана уменьшать лернинг рейт, когда лосс на каждом шаге уменьшается слишком слабо, и это должно помочь медленнее и точнее спускаться к локальному минимуму. [link text](https://drive.google.com/file/d/1zLcH9MRHPn0PmbTeuX1i4wiO_MLD6vbF/view?usp=sharing) вот так это выглядит.\n",
        "\n",
        "\n",
        "Модель с LeakyReLU(0.2) у меня тут же переобучилась, хотя я их даже не везде увеличила => такая архитектура точно не подойдет.\n",
        "Пробовала менять LeakyReLU на обычный relu, обучается медленнее и тоже не имеет смысла.\n"
      ]
    },
    {
      "metadata": {
        "id": "cBnPbFPlU5_4",
        "colab_type": "text"
      },
      "cell_type": "markdown",
      "source": [
        "# Imports"
      ]
    },
    {
      "metadata": {
        "ExecuteTime": {
          "end_time": "2018-11-11T21:30:33.658534Z",
          "start_time": "2018-11-11T21:30:33.346958Z"
        },
        "id": "mzb_kM-eU5_8",
        "colab_type": "code",
        "colab": {}
      },
      "cell_type": "code",
      "source": [
        "import zipfile\n",
        "import numpy as np\n",
        "import pandas as pd\n",
        "import os\n",
        "import tqdm\n",
        "import matplotlib \n",
        "%matplotlib inline\n",
        "import matplotlib.pyplot as plt\n",
        "import csv\n",
        "from google.colab import drive"
      ],
      "execution_count": 0,
      "outputs": []
    },
    {
      "metadata": {
        "id": "_jhNyp9AU6AK",
        "colab_type": "text"
      },
      "cell_type": "markdown",
      "source": [
        "# Download data from Kaggle"
      ]
    },
    {
      "metadata": {
        "id": "PYtD2EtgU6AN",
        "colab_type": "code",
        "outputId": "64fbea24-6a6b-41bc-fcef-d3e6df836a3b",
        "colab": {
          "base_uri": "https://localhost:8080/",
          "height": 445
        }
      },
      "cell_type": "code",
      "source": [
        "# we need to use python 3 version of Kaggle!\n",
        "# remove python 2 version with `pip uninstall kaggle`\n",
        "! pip3 install kaggle --upgrade"
      ],
      "execution_count": 0,
      "outputs": [
        {
          "output_type": "stream",
          "text": [
            "Collecting kaggle\n",
            "\u001b[?25l  Downloading https://files.pythonhosted.org/packages/83/9b/ac57e15fbb239c6793c8d0b7dfd1a4c4a025eaa9f791b5388a7afb515aed/kaggle-1.5.0.tar.gz (53kB)\n",
            "\u001b[K    100% |████████████████████████████████| 61kB 2.8MB/s \n",
            "\u001b[?25hRequirement already satisfied, skipping upgrade: urllib3<1.23.0,>=1.15 in /usr/local/lib/python3.6/dist-packages (from kaggle) (1.22)\n",
            "Requirement already satisfied, skipping upgrade: six>=1.10 in /usr/local/lib/python3.6/dist-packages (from kaggle) (1.11.0)\n",
            "Requirement already satisfied, skipping upgrade: certifi in /usr/local/lib/python3.6/dist-packages (from kaggle) (2018.10.15)\n",
            "Requirement already satisfied, skipping upgrade: python-dateutil in /usr/local/lib/python3.6/dist-packages (from kaggle) (2.5.3)\n",
            "Requirement already satisfied, skipping upgrade: requests in /usr/local/lib/python3.6/dist-packages (from kaggle) (2.18.4)\n",
            "Requirement already satisfied, skipping upgrade: tqdm in /usr/local/lib/python3.6/dist-packages (from kaggle) (4.28.1)\n",
            "Collecting python-slugify (from kaggle)\n",
            "  Downloading https://files.pythonhosted.org/packages/00/ad/c778a6df614b6217c30fe80045b365bfa08b5dd3cb02e8b37a6d25126781/python-slugify-1.2.6.tar.gz\n",
            "Requirement already satisfied, skipping upgrade: idna<2.7,>=2.5 in /usr/local/lib/python3.6/dist-packages (from requests->kaggle) (2.6)\n",
            "Requirement already satisfied, skipping upgrade: chardet<3.1.0,>=3.0.2 in /usr/local/lib/python3.6/dist-packages (from requests->kaggle) (3.0.4)\n",
            "Collecting Unidecode>=0.04.16 (from python-slugify->kaggle)\n",
            "\u001b[?25l  Downloading https://files.pythonhosted.org/packages/59/ef/67085e30e8bbcdd76e2f0a4ad8151c13a2c5bce77c85f8cad6e1f16fb141/Unidecode-1.0.22-py2.py3-none-any.whl (235kB)\n",
            "\u001b[K    100% |████████████████████████████████| 235kB 5.8MB/s \n",
            "\u001b[?25hBuilding wheels for collected packages: kaggle, python-slugify\n",
            "  Running setup.py bdist_wheel for kaggle ... \u001b[?25l-\b \b\\\b \bdone\n",
            "\u001b[?25h  Stored in directory: /root/.cache/pip/wheels/8b/21/3b/a0076243c6ae12a6215b2da515fe06b539aee7217b406e510e\n",
            "  Running setup.py bdist_wheel for python-slugify ... \u001b[?25l-\b \bdone\n",
            "\u001b[?25h  Stored in directory: /root/.cache/pip/wheels/e3/65/da/2045deea3098ed7471eca0e2460cfbd3fdfe8c1d6fa6fcac92\n",
            "Successfully built kaggle python-slugify\n",
            "Installing collected packages: Unidecode, python-slugify, kaggle\n",
            "Successfully installed Unidecode-1.0.22 kaggle-1.5.0 python-slugify-1.2.6\n"
          ],
          "name": "stdout"
        }
      ]
    },
    {
      "metadata": {
        "ExecuteTime": {
          "end_time": "2018-11-06T15:29:19.895974Z",
          "start_time": "2018-11-06T15:26:21.334564Z"
        },
        "id": "vV0L-RdAU6AX",
        "colab_type": "code",
        "outputId": "ced517bd-3731-4563-8e34-0a80a6664746",
        "colab": {
          "base_uri": "https://localhost:8080/",
          "height": 68
        }
      },
      "cell_type": "code",
      "source": [
        "# get <token> from https://www.kaggle.com/<user>/account, click \"Create New API Token\", open json file\n",
        "! KAGGLE_USERNAME=lisavinograd8 KAGGLE_KEY=6fc23d78664dfcf69cc453535fae187b kaggle competitions download -c quickdraw-doodle-recognition -f train_simplified.zip"
      ],
      "execution_count": 0,
      "outputs": [
        {
          "output_type": "stream",
          "text": [
            "Downloading train_simplified.zip to /content\n",
            "100% 7.36G/7.37G [00:55<00:00, 173MB/s]\n",
            "100% 7.37G/7.37G [00:55<00:00, 143MB/s]\n"
          ],
          "name": "stdout"
        }
      ]
    },
    {
      "metadata": {
        "ExecuteTime": {
          "end_time": "2018-11-11T21:30:36.384943Z",
          "start_time": "2018-11-11T21:30:36.339315Z"
        },
        "id": "6fzDlt7wU6Al",
        "colab_type": "code",
        "colab": {}
      },
      "cell_type": "code",
      "source": [
        "# open zip file, will read everything from it\n",
        "zf = zipfile.ZipFile(\"train_simplified.zip\")"
      ],
      "execution_count": 0,
      "outputs": []
    },
    {
      "metadata": {
        "id": "R10ALhTsU6Au",
        "colab_type": "text"
      },
      "cell_type": "markdown",
      "source": [
        "# Data generators from disk (no need to store in RAM)"
      ]
    },
    {
      "metadata": {
        "ExecuteTime": {
          "end_time": "2018-11-11T21:30:37.151839Z",
          "start_time": "2018-11-11T21:30:37.140877Z"
        },
        "id": "5jH4OYsGU6Aw",
        "colab_type": "code",
        "outputId": "6d29476f-bbb9-4dd0-8a34-709006b59b46",
        "colab": {
          "base_uri": "https://localhost:8080/",
          "height": 34
        }
      },
      "cell_type": "code",
      "source": [
        "class_labels = map(lambda x: x.replace(\".csv\", \"\"), zf.namelist())\n",
        "class_labels[:5]"
      ],
      "execution_count": 0,
      "outputs": [
        {
          "output_type": "execute_result",
          "data": {
            "text/plain": [
              "['fence', 'yoga', 'horse', 'sandwich', 'cat']"
            ]
          },
          "metadata": {
            "tags": []
          },
          "execution_count": 5
        }
      ]
    },
    {
      "metadata": {
        "ExecuteTime": {
          "end_time": "2018-11-11T21:30:37.621785Z",
          "start_time": "2018-11-11T21:30:37.615369Z"
        },
        "id": "Yp59Hu-ZU6A8",
        "colab_type": "code",
        "colab": {}
      },
      "cell_type": "code",
      "source": [
        "# loop through file eternally\n",
        "def get_eternal_csv_generator(fn, debug=False):\n",
        "    while True:\n",
        "        with zf.open(fn) as f:\n",
        "            f.readline()  # skip header\n",
        "            for line in csv.reader(f, delimiter=',', quotechar='\"'):\n",
        "                yield line[1], line[5]\n",
        "            if debug:\n",
        "                print fn, \"is done, starting from the beginning...\""
      ],
      "execution_count": 0,
      "outputs": []
    },
    {
      "metadata": {
        "ExecuteTime": {
          "end_time": "2018-11-11T21:30:39.009017Z",
          "start_time": "2018-11-11T21:30:39.000280Z"
        },
        "id": "P7K4JwFRU6BD",
        "colab_type": "code",
        "colab": {}
      },
      "cell_type": "code",
      "source": [
        "def raw_batch_generator(batch_size, debug=False):\n",
        "    generators = np.array([get_eternal_csv_generator(fn, debug) for fn in zf.namelist()])\n",
        "    while True:\n",
        "        random_indices = np.random.randint(0, len(generators), size=batch_size)\n",
        "        yield [gen.next() for gen in generators[random_indices]]"
      ],
      "execution_count": 0,
      "outputs": []
    },
    {
      "metadata": {
        "id": "Vj-ipwU2U6BM",
        "colab_type": "text"
      },
      "cell_type": "markdown",
      "source": [
        "# Images generator"
      ]
    },
    {
      "metadata": {
        "ExecuteTime": {
          "end_time": "2018-11-11T21:52:36.485406Z",
          "start_time": "2018-11-11T21:52:36.472025Z"
        },
        "id": "jZ1tI4ooU6BV",
        "colab_type": "code",
        "colab": {}
      },
      "cell_type": "code",
      "source": [
        "# copy-paste from https://www.kaggle.com/jpmiller/image-based-cnn\n",
        "\n",
        "import ast\n",
        "from PIL import Image, ImageDraw\n",
        "import cv2\n",
        "\n",
        "IMG_SIZE = 128\n",
        "\n",
        "# faster conversion function\n",
        "def draw_it(strokes):\n",
        "    img = 255 * np.ones((256, 256), np.uint8)\n",
        "    for stroke in ast.literal_eval(strokes):\n",
        "        for i in range(len(stroke[0]) - 1):\n",
        "            _ = cv2.line(img, (stroke[0][i], stroke[1][i]), (stroke[0][i + 1], stroke[1][i + 1]), 0, 3)\n",
        "    return cv2.resize(img, (IMG_SIZE, IMG_SIZE))"
      ],
      "execution_count": 0,
      "outputs": []
    },
    {
      "metadata": {
        "ExecuteTime": {
          "end_time": "2018-11-11T21:52:37.855100Z",
          "start_time": "2018-11-11T21:52:37.845212Z"
        },
        "id": "X0Svyt8aU6Bk",
        "colab_type": "code",
        "colab": {}
      },
      "cell_type": "code",
      "source": [
        "\n",
        "def images_and_labels_generator(batch_size):\n",
        "    for batch in raw_batch_generator(batch_size):\n",
        "        batch_images = []\n",
        "        batch_labels = []\n",
        "        for e in batch:\n",
        "            batch_images.append(draw_it(e[0]))\n",
        "            batch_labels.append(e[1])\n",
        "        batch_images = np.stack(batch_images, axis=0)\n",
        "        yield batch_images, batch_labels"
      ],
      "execution_count": 0,
      "outputs": []
    },
    {
      "metadata": {
        "ExecuteTime": {
          "end_time": "2018-11-11T21:53:06.996766Z",
          "start_time": "2018-11-11T21:53:06.864570Z"
        },
        "id": "RpamB-veU6Bv",
        "colab_type": "code",
        "outputId": "d447edb9-6d78-414f-afe3-dea792591115",
        "colab": {
          "base_uri": "https://localhost:8080/",
          "height": 280
        }
      },
      "cell_type": "code",
      "source": [
        "b = images_and_labels_generator(32).next()\n",
        "plt.imshow(b[0][10, :, :])\n",
        "plt.title(b[1][10])\n",
        "plt.show()"
      ],
      "execution_count": 0,
      "outputs": [
        {
          "output_type": "display_data",
          "data": {
            "image/png": "[encoded data removed]",
            "text/plain": [
              "<matplotlib.figure.Figure at 0x7fe9c84a2150>"
            ]
          },
          "metadata": {
            "tags": []
          }
        }
      ]
    },
    {
      "metadata": {
        "id": "17vNTDd6U6B4",
        "colab_type": "text"
      },
      "cell_type": "markdown",
      "source": [
        "\n",
        "# Augmentation example"
      ]
    },
    {
      "metadata": {
        "ExecuteTime": {
          "end_time": "2018-11-11T21:53:24.422083Z",
          "start_time": "2018-11-11T21:53:23.961929Z"
        },
        "scrolled": true,
        "id": "TG5Z5As7U6B8",
        "colab_type": "code",
        "outputId": "dee68ee4-259a-4614-9a70-050d9df42766",
        "colab": {
          "base_uri": "https://localhost:8080/",
          "height": 1289
        }
      },
      "cell_type": "code",
      "source": [
        "from keras.preprocessing.image import ImageDataGenerator\n",
        "\n",
        "image_gen = ImageDataGenerator(\n",
        "    rotation_range=40,\n",
        "    shear_range=0.2,\n",
        "    zoom_range=0.2,\n",
        "    fill_mode='constant',\n",
        "    cval=255\n",
        ")\n",
        "\n",
        "image = b[0][10, :, :]\n",
        "\n",
        "# add 3 channels to image\n",
        "image = np.tile(np.expand_dims(image, axis=2), (1, 1, 3))\n",
        "\n",
        "# 5 random augmentations\n",
        "for _ in range(5):\n",
        "    plt.imshow(image_gen.random_transform(image)[:, :, 0])\n",
        "    plt.show()"
      ],
      "execution_count": 0,
      "outputs": [
        {
          "output_type": "stream",
          "text": [
            "Using TensorFlow backend.\n"
          ],
          "name": "stderr"
        },
        {
          "output_type": "display_data",
          "data": {
            "image/png": "[encoded data removed]",
            "text/plain": [
              "<matplotlib.figure.Figure at 0x7fe96ea3aa90>"
            ]
          },
          "metadata": {
            "tags": []
          }
        },
        {
          "output_type": "display_data",
          "data": {
            "image/png": "[encoded data removed]",
            "text/plain": [
              "<matplotlib.figure.Figure at 0x7fe96e9c7210>"
            ]
          },
          "metadata": {
            "tags": []
          }
        },
        {
          "output_type": "display_data",
          "data": {
            "image/png": "[encoded data removed]",
            "text/plain": [
              "<matplotlib.figure.Figure at 0x7fe9ae777c10>"
            ]
          },
          "metadata": {
            "tags": []
          }
        },
        {
          "output_type": "display_data",
          "data": {
            "image/png": "[encoded data removed]",
            "text/plain": [
              "<matplotlib.figure.Figure at 0x7fe96e8c1990>"
            ]
          },
          "metadata": {
            "tags": []
          }
        },
        {
          "output_type": "display_data",
          "data": {
            "image/png": "[encoded data removed]",
            "text/plain": [
              "<matplotlib.figure.Figure at 0x7fe9ae771210>"
            ]
          },
          "metadata": {
            "tags": []
          }
        }
      ]
    },
    {
      "metadata": {
        "ExecuteTime": {
          "end_time": "2018-11-06T22:00:38.205119Z",
          "start_time": "2018-11-06T22:00:38.199739Z"
        },
        "id": "7jTPvaYMU6CG",
        "colab_type": "text"
      },
      "cell_type": "markdown",
      "source": [
        "\n",
        "# Train simple network"
      ]
    },
    {
      "metadata": {
        "ExecuteTime": {
          "end_time": "2018-11-07T16:09:43.935122Z",
          "start_time": "2018-11-07T16:09:43.339804Z"
        },
        "id": "cIVpxYUiU6CJ",
        "colab_type": "code",
        "colab": {}
      },
      "cell_type": "code",
      "source": [
        "\n",
        "import tensorflow as tf\n",
        "import keras\n",
        "from keras import backend as K"
      ],
      "execution_count": 0,
      "outputs": []
    },
    {
      "metadata": {
        "ExecuteTime": {
          "end_time": "2018-11-07T16:10:14.627454Z",
          "start_time": "2018-11-07T16:10:14.614258Z"
        },
        "id": "NPKo7Et3U6CV",
        "colab_type": "code",
        "colab": {}
      },
      "cell_type": "code",
      "source": [
        "# reset graph when you change architecture!\n",
        "def reset_tf_session():\n",
        "    curr_session = tf.get_default_session()\n",
        "    # close current session\n",
        "    if curr_session is not None:\n",
        "        curr_session.close()\n",
        "    # reset graph\n",
        "    K.clear_session()\n",
        "    # create new session\n",
        "    config = tf.ConfigProto()\n",
        "    config.gpu_options.allow_growth = True\n",
        "    s = tf.InteractiveSession(config=config)\n",
        "    K.set_session(s)\n",
        "    return s"
      ],
      "execution_count": 0,
      "outputs": []
    },
    {
      "metadata": {
        "ExecuteTime": {
          "end_time": "2018-11-07T16:10:20.833559Z",
          "start_time": "2018-11-07T16:10:20.820480Z"
        },
        "scrolled": false,
        "id": "mwuCoIgyU6Cf",
        "colab_type": "code",
        "outputId": "94141176-5c50-41ec-f851-07cac247e8b0",
        "colab": {
          "base_uri": "https://localhost:8080/",
          "height": 102
        }
      },
      "cell_type": "code",
      "source": [
        "NUM_CLASSES = len(class_labels)\n",
        "class_to_idx = {c: idx for idx, c in enumerate(class_labels)}\n",
        "class_to_idx.items()[:5]"
      ],
      "execution_count": 0,
      "outputs": [
        {
          "output_type": "execute_result",
          "data": {
            "text/plain": [
              "[('snowman', 134),\n",
              " ('eyeglasses', 254),\n",
              " ('ceiling fan', 18),\n",
              " ('camel', 90),\n",
              " ('stove', 119)]"
            ]
          },
          "metadata": {
            "tags": []
          },
          "execution_count": 14
        }
      ]
    },
    {
      "metadata": {
        "ExecuteTime": {
          "end_time": "2018-11-07T16:11:58.574802Z",
          "start_time": "2018-11-07T16:11:58.565415Z"
        },
        "id": "9m3nnlgGU6Cz",
        "colab_type": "code",
        "colab": {}
      },
      "cell_type": "code",
      "source": [
        "def train_iterator(batch_size):\n",
        "    for batch in images_and_labels_generator(batch_size):\n",
        "        images = batch[0].astype('float32')\n",
        "        #images = images/255 - 0.5\n",
        "        images = np.expand_dims(images, -1)\n",
        "        labels = keras.utils.to_categorical(map(class_to_idx.get, batch[1]), NUM_CLASSES)\n",
        "        yield images, labels"
      ],
      "execution_count": 0,
      "outputs": []
    },
    {
      "metadata": {
        "ExecuteTime": {
          "end_time": "2018-11-07T16:11:59.923327Z",
          "start_time": "2018-11-07T16:11:59.898171Z"
        },
        "scrolled": true,
        "id": "MzAYHt9tU6C5",
        "colab_type": "code",
        "outputId": "de432d1a-ca0e-42b1-9e4b-7edce20b9f35",
        "colab": {
          "base_uri": "https://localhost:8080/",
          "height": 51
        }
      },
      "cell_type": "code",
      "source": [
        "sample = train_iterator(128).next()\n",
        "print sample[0].shape\n",
        "print sample[1].shape"
      ],
      "execution_count": 0,
      "outputs": [
        {
          "output_type": "stream",
          "text": [
            "(128, 128, 128, 1)\n",
            "(128, 340)\n"
          ],
          "name": "stdout"
        }
      ]
    },
    {
      "metadata": {
        "ExecuteTime": {
          "end_time": "2018-11-07T16:12:13.491949Z",
          "start_time": "2018-11-07T16:12:13.485091Z"
        },
        "id": "2_IwlPxiU6DE",
        "colab_type": "code",
        "colab": {}
      },
      "cell_type": "code",
      "source": [
        "# import necessary building blocks\n",
        "from keras.models import Sequential\n",
        "from keras.layers import Conv2D, MaxPooling2D, Flatten, Dense, Activation, Dropout, GlobalAveragePooling2D, \\\n",
        "    BatchNormalization\n",
        "from keras.layers.advanced_activations import LeakyReLU"
      ],
      "execution_count": 0,
      "outputs": []
    },
    {
      "metadata": {
        "ExecuteTime": {
          "end_time": "2018-11-07T16:15:15.162847Z",
          "start_time": "2018-11-07T16:15:15.148961Z"
        },
        "id": "M_Zu6myTU6DK",
        "colab_type": "code",
        "colab": {}
      },
      "cell_type": "code",
      "source": [
        "\n",
        "def make_model():\n",
        "    \"\"\"\n",
        "    Define your model architecture here.\n",
        "    Returns `Sequential` model.\n",
        "    \"\"\"\n",
        "    model = Sequential()\n",
        "\n",
        "    ### YOUR CODE HERE: replace with a better model! Batch normalization really helps!\n",
        "    \n",
        "    keras.layers.normalization.BatchNormalization(epsilon=1e-06, mode=0, momentum=0.9, weights=None)\n",
        "    model.add(Conv2D(16, (3, 3), padding='same', input_shape=(IMG_SIZE, IMG_SIZE, 1)))\n",
        "    model.add(LeakyReLU(0.1))\n",
        "    model.add(Conv2D(16, kernel_size=(3,3), padding='same'))\n",
        "    model.add(LeakyReLU(0.1))\n",
        "    model.add(MaxPooling2D(2,2))\n",
        "    \n",
        "    model.add(Dropout(0.25))\n",
        "    \n",
        "    model.add(Conv2D(32, (3, 3), padding='same', input_shape=(IMG_SIZE, IMG_SIZE, 1)))\n",
        "    model.add(LeakyReLU(0.1))\n",
        "    model.add(Conv2D(32, kernel_size=(3,3), padding='same'))\n",
        "    model.add(LeakyReLU(0.1))\n",
        "    model.add(MaxPooling2D(2,2))\n",
        "    \n",
        "    model.add(Dropout(0.25))\n",
        "    \n",
        "    model.add(Conv2D(64, (3, 3), padding='same', input_shape=(IMG_SIZE, IMG_SIZE, 1)))\n",
        "    model.add(LeakyReLU(0.1))\n",
        "    model.add(Conv2D(64, kernel_size=(3,3), padding='same'))\n",
        "    model.add(LeakyReLU(0.1))\n",
        "    model.add(MaxPooling2D(2,2))\n",
        "    \n",
        "    model.add(Dropout(0.25))\n",
        "      \n",
        "    model.add(Conv2D(128, (3, 3), padding='same', input_shape=(IMG_SIZE, IMG_SIZE, 1)))\n",
        "    model.add(LeakyReLU(0.1))\n",
        "    model.add(Conv2D(128, kernel_size=(3,3), padding='same'))\n",
        "    model.add(LeakyReLU(0.1))\n",
        "    \n",
        "    model.add(MaxPooling2D(2,2))\n",
        "   \n",
        "    model.add(Flatten())  \n",
        "  \n",
        "    model.add(Dense(128))\n",
        "    model.add(Dropout(0.5))\n",
        "    \n",
        "    model.add(Dense(NUM_CLASSES, activation=\"softmax\"))\n",
        "    \n",
        "    return model"
      ],
      "execution_count": 0,
      "outputs": []
    },
    {
      "metadata": {
        "ExecuteTime": {
          "end_time": "2018-11-07T16:15:16.796282Z",
          "start_time": "2018-11-07T16:15:16.726472Z"
        },
        "id": "eKLPU62IU6DU",
        "colab_type": "code",
        "outputId": "e0a79323-7e11-4ec2-8188-5fd4c64221e4",
        "colab": {
          "base_uri": "https://localhost:8080/",
          "height": 1108
        }
      },
      "cell_type": "code",
      "source": [
        "# describe model\n",
        "s = reset_tf_session()  # clear default graph\n",
        "model = make_model()\n",
        "model.summary()"
      ],
      "execution_count": 0,
      "outputs": [
        {
          "output_type": "stream",
          "text": [
            "/usr/local/lib/python2.7/dist-packages/ipykernel_launcher.py:11: UserWarning: Update your `BatchNormalization` call to the Keras 2 API: `BatchNormalization(epsilon=1e-06, weights=None, momentum=0.9)`\n",
            "  # This is added back by InteractiveShellApp.init_path()\n"
          ],
          "name": "stderr"
        },
        {
          "output_type": "stream",
          "text": [
            "_________________________________________________________________\n",
            "Layer (type)                 Output Shape              Param #   \n",
            "=================================================================\n",
            "conv2d_1 (Conv2D)            (None, 128, 128, 16)      160       \n",
            "_________________________________________________________________\n",
            "leaky_re_lu_1 (LeakyReLU)    (None, 128, 128, 16)      0         \n",
            "_________________________________________________________________\n",
            "conv2d_2 (Conv2D)            (None, 128, 128, 16)      2320      \n",
            "_________________________________________________________________\n",
            "leaky_re_lu_2 (LeakyReLU)    (None, 128, 128, 16)      0         \n",
            "_________________________________________________________________\n",
            "max_pooling2d_1 (MaxPooling2 (None, 64, 64, 16)        0         \n",
            "_________________________________________________________________\n",
            "dropout_1 (Dropout)          (None, 64, 64, 16)        0         \n",
            "_________________________________________________________________\n",
            "conv2d_3 (Conv2D)            (None, 64, 64, 32)        4640      \n",
            "_________________________________________________________________\n",
            "leaky_re_lu_3 (LeakyReLU)    (None, 64, 64, 32)        0         \n",
            "_________________________________________________________________\n",
            "conv2d_4 (Conv2D)            (None, 64, 64, 32)        9248      \n",
            "_________________________________________________________________\n",
            "leaky_re_lu_4 (LeakyReLU)    (None, 64, 64, 32)        0         \n",
            "_________________________________________________________________\n",
            "max_pooling2d_2 (MaxPooling2 (None, 32, 32, 32)        0         \n",
            "_________________________________________________________________\n",
            "dropout_2 (Dropout)          (None, 32, 32, 32)        0         \n",
            "_________________________________________________________________\n",
            "conv2d_5 (Conv2D)            (None, 32, 32, 64)        18496     \n",
            "_________________________________________________________________\n",
            "leaky_re_lu_5 (LeakyReLU)    (None, 32, 32, 64)        0         \n",
            "_________________________________________________________________\n",
            "conv2d_6 (Conv2D)            (None, 32, 32, 64)        36928     \n",
            "_________________________________________________________________\n",
            "leaky_re_lu_6 (LeakyReLU)    (None, 32, 32, 64)        0         \n",
            "_________________________________________________________________\n",
            "max_pooling2d_3 (MaxPooling2 (None, 16, 16, 64)        0         \n",
            "_________________________________________________________________\n",
            "dropout_3 (Dropout)          (None, 16, 16, 64)        0         \n",
            "_________________________________________________________________\n",
            "conv2d_7 (Conv2D)            (None, 16, 16, 128)       73856     \n",
            "_________________________________________________________________\n",
            "leaky_re_lu_7 (LeakyReLU)    (None, 16, 16, 128)       0         \n",
            "_________________________________________________________________\n",
            "conv2d_8 (Conv2D)            (None, 16, 16, 128)       147584    \n",
            "_________________________________________________________________\n",
            "leaky_re_lu_8 (LeakyReLU)    (None, 16, 16, 128)       0         \n",
            "_________________________________________________________________\n",
            "max_pooling2d_4 (MaxPooling2 (None, 8, 8, 128)         0         \n",
            "_________________________________________________________________\n",
            "flatten_1 (Flatten)          (None, 8192)              0         \n",
            "_________________________________________________________________\n",
            "dense_1 (Dense)              (None, 128)               1048704   \n",
            "_________________________________________________________________\n",
            "dropout_4 (Dropout)          (None, 128)               0         \n",
            "_________________________________________________________________\n",
            "dense_2 (Dense)              (None, 340)               43860     \n",
            "=================================================================\n",
            "Total params: 1,385,796\n",
            "Trainable params: 1,385,796\n",
            "Non-trainable params: 0\n",
            "_________________________________________________________________\n"
          ],
          "name": "stdout"
        }
      ]
    },
    {
      "metadata": {
        "ExecuteTime": {
          "end_time": "2018-11-07T16:21:07.829654Z",
          "start_time": "2018-11-07T16:21:07.822122Z"
        },
        "id": "-F8-dN-hU6Di",
        "colab_type": "code",
        "colab": {}
      },
      "cell_type": "code",
      "source": [
        "# custom metrics we need\n",
        "from keras.metrics import categorical_accuracy, top_k_categorical_accuracy\n",
        "\n",
        "def top_3_accuracy(y_true, y_pred):\n",
        "    return top_k_categorical_accuracy(y_true, y_pred, k=3)"
      ],
      "execution_count": 0,
      "outputs": []
    },
    {
      "metadata": {
        "ExecuteTime": {
          "end_time": "2018-11-07T16:16:27.284265Z",
          "start_time": "2018-11-07T16:16:27.184294Z"
        },
        "id": "a_yVL46RU6Dq",
        "colab_type": "code",
        "outputId": "78ed8c2b-d1df-4a48-e125-9a81bfad26b2",
        "colab": {
          "base_uri": "https://localhost:8080/",
          "height": 71
        }
      },
      "cell_type": "code",
      "source": [
        "BATCH_SIZE = 512\n",
        "STEPS_PER_EPOCH = 800\n",
        "EPOCHS = 40\n",
        "\n",
        "s = reset_tf_session()  # clear default graph\n",
        "model = make_model()  # define our model\n",
        "\n",
        "# prepare model for fitting (loss, optimizer, etc)\n",
        "model.compile(\n",
        "    loss='categorical_crossentropy',\n",
        "    optimizer=keras.optimizers.adam(clipnorm=5.),  # gradient clipping just in case\n",
        "    metrics=[categorical_accuracy, top_3_accuracy]  # report top 3 accuracy, correlates with MAP@3!\n",
        ")"
      ],
      "execution_count": 0,
      "outputs": [
        {
          "output_type": "stream",
          "text": [
            "/usr/local/lib/python2.7/dist-packages/ipykernel_launcher.py:11: UserWarning: Update your `BatchNormalization` call to the Keras 2 API: `BatchNormalization(epsilon=1e-06, weights=None, momentum=0.9)`\n",
            "  # This is added back by InteractiveShellApp.init_path()\n"
          ],
          "name": "stderr"
        }
      ]
    },
    {
      "metadata": {
        "ExecuteTime": {
          "end_time": "2018-11-07T16:20:03.725667Z",
          "start_time": "2018-11-07T16:20:03.715510Z"
        },
        "id": "QxgOvMBGU6Dy",
        "colab_type": "code",
        "colab": {}
      },
      "cell_type": "code",
      "source": [
        "# for saving the model after every epoch\n",
        "from keras.models import save_model\n",
        "\n",
        "class ModelSaveCallback(keras.callbacks.Callback):\n",
        "    def __init__(self, file_name):\n",
        "        super(ModelSaveCallback, self).__init__()\n",
        "        self.file_name = file_name\n",
        "\n",
        "    def on_epoch_end(self, epoch, logs=None):\n",
        "        model_filename = self.file_name.format(epoch)\n",
        "        save_model(self.model, model_filename)\n",
        "        print(\"Model saved in {}\".format(model_filename))"
      ],
      "execution_count": 0,
      "outputs": []
    },
    {
      "metadata": {
        "ExecuteTime": {
          "end_time": "2018-11-07T16:22:04.352396Z",
          "start_time": "2018-11-07T16:22:03.726954Z"
        },
        "id": "jzWYOW1hU6D8",
        "colab_type": "code",
        "colab": {}
      },
      "cell_type": "code",
      "source": [
        "last_finished_epoch = 0\n",
        "\n",
        "# you can continue from snapshot!!!\n",
        "# from keras.models import load_model\n",
        "# s = reset_tf_session()\n",
        "# last_finished_epoch = 2\n",
        "# model = load_model(\"model_{}\".format(last_finished_epoch), \n",
        "#                    custom_objects={\"top_3_accuracy\": top_3_accuracy})"
      ],
      "execution_count": 0,
      "outputs": []
    },
    {
      "metadata": {
        "ExecuteTime": {
          "end_time": "2018-11-07T16:22:12.823711Z",
          "start_time": "2018-11-07T16:22:08.154274Z"
        },
        "id": "6U69CuFfU6EH",
        "colab_type": "code",
        "outputId": "9398bccc-49c5-4d89-8d98-f4b53db6a521",
        "colab": {
          "base_uri": "https://localhost:8080/",
          "height": 34
        }
      },
      "cell_type": "code",
      "source": [
        "# fit the model with our eternal generator!\n",
        "model.fit_generator(\n",
        "    train_iterator(BATCH_SIZE), \n",
        "    steps_per_epoch=STEPS_PER_EPOCH,\n",
        "    epochs=EPOCHS,\n",
        "    callbacks=[ModelSaveCallback(\"model_{}\")],\n",
        "    verbose=1,\n",
        "    initial_epoch=last_finished_epoch\n",
        ")"
      ],
      "execution_count": 0,
      "outputs": [
        {
          "output_type": "stream",
          "text": [
            "Epoch 1/25\n"
          ],
          "name": "stdout"
        }
      ]
    },
    {
      "metadata": {
        "id": "mIn_z7nbU6ES",
        "colab_type": "text"
      },
      "cell_type": "markdown",
      "source": [
        "# Score test set"
      ]
    },
    {
      "metadata": {
        "ExecuteTime": {
          "end_time": "2018-11-07T12:18:38.307707Z",
          "start_time": "2018-11-07T12:18:34.929466Z"
        },
        "id": "ZUfolWtIU6EZ",
        "colab_type": "code",
        "outputId": "3e554004-80b2-4a07-fc27-ba04b6f2bf60",
        "colab": {
          "base_uri": "https://localhost:8080/",
          "height": 68
        }
      },
      "cell_type": "code",
      "source": [
        "# download test set\n",
        "! KAGGLE_USERNAME=lisavinograd8 KAGGLE_KEY=6fc23d78664dfcf69cc453535fae187b kaggle competitions download -c quickdraw-doodle-recognition -f test_simplified.csv"
      ],
      "execution_count": 0,
      "outputs": [
        {
          "output_type": "stream",
          "text": [
            "Downloading test_simplified.csv to /content\n",
            " 76% 45.0M/59.0M [00:00<00:00, 27.0MB/s]\n",
            "100% 59.0M/59.0M [00:01<00:00, 57.7MB/s]\n"
          ],
          "name": "stdout"
        }
      ]
    },
    {
      "metadata": {
        "ExecuteTime": {
          "end_time": "2018-11-07T16:25:30.169624Z",
          "start_time": "2018-11-07T16:25:30.148875Z"
        },
        "id": "m1-jCmX5U6Ek",
        "colab_type": "code",
        "colab": {}
      },
      "cell_type": "code",
      "source": [
        "def test_csv_iterator(batch_size):\n",
        "    with open(\"test_simplified.csv\", \"r\") as f:\n",
        "        batch_keys = []\n",
        "        batch_images = []\n",
        "        f.readline()  # skip header\n",
        "        for line in csv.reader(f, delimiter=',', quotechar='\"'):\n",
        "            batch_keys.append(line[0])\n",
        "            batch_images.append(draw_it(line[2]))\n",
        "            if len(batch_images) == batch_size:\n",
        "                batch_images = np.stack(batch_images, axis=0)\n",
        "                batch_images = np.expand_dims(batch_images, -1)\n",
        "                batch_images = batch_images.astype('float32')\n",
        "                ### YOUR CODE HERE: normalize batch_images the same way as during training!\n",
        "                yield batch_keys, batch_images\n",
        "                batch_keys = []\n",
        "                batch_images = []\n",
        "        if batch_images:  # last batch\n",
        "            batch_images = np.stack(batch_images, axis=0)\n",
        "            batch_images = np.expand_dims(batch_images, -1)\n",
        "            batch_images = batch_images.astype('float32')\n",
        "            ### YOUR CODE HERE: normalize batch_images the same way as during training!\n",
        "            yield batch_keys, batch_images"
      ],
      "execution_count": 0,
      "outputs": []
    },
    {
      "metadata": {
        "ExecuteTime": {
          "end_time": "2018-11-07T16:25:32.406415Z",
          "start_time": "2018-11-07T16:25:32.203842Z"
        },
        "id": "SQEinyQPU6Et",
        "colab_type": "code",
        "outputId": "97aef90a-3956-4d98-cba9-457a5d7aedb3",
        "colab": {
          "base_uri": "https://localhost:8080/",
          "height": 34
        }
      },
      "cell_type": "code",
      "source": [
        "! wc -l test_simplified.csv"
      ],
      "execution_count": 0,
      "outputs": [
        {
          "output_type": "stream",
          "text": [
            "112200 test_simplified.csv\n"
          ],
          "name": "stdout"
        }
      ]
    },
    {
      "metadata": {
        "ExecuteTime": {
          "end_time": "2018-11-07T16:26:30.259083Z",
          "start_time": "2018-11-07T16:25:32.579734Z"
        },
        "scrolled": true,
        "id": "JQUSRJJvU6E5",
        "colab_type": "code",
        "outputId": "5343d6c4-bf59-4e69-d601-7293778a3e9b",
        "colab": {
          "base_uri": "https://localhost:8080/",
          "height": 34
        }
      },
      "cell_type": "code",
      "source": [
        "with open(\"submission.csv\", \"w\", buffering=1*1024*1024) as f:\n",
        "    f.write(\"key_id,word\\n\")\n",
        "    for batch_keys, batch_images in tqdm.tqdm(test_csv_iterator(BATCH_SIZE), total=np.ceil(112200./BATCH_SIZE)):\n",
        "        probas = model.predict_proba(batch_images, BATCH_SIZE)\n",
        "        top_3_classes = np.argsort(probas, axis=1)[:, [-1, -2, -3]]\n",
        "        labels = map(lambda x: \" \".join(\"_\".join(class_labels[idx].split()) for idx in x), top_3_classes)\n",
        "        for key, labels in zip(batch_keys, labels):\n",
        "            f.write(key + \",\" + labels + \"\\n\")"
      ],
      "execution_count": 0,
      "outputs": [
        {
          "output_type": "stream",
          "text": [
            "100%|██████████| 439/439.0 [02:10<00:00,  2.92it/s]\n"
          ],
          "name": "stderr"
        }
      ]
    },
    {
      "metadata": {
        "ExecuteTime": {
          "end_time": "2018-11-07T16:27:51.293010Z",
          "start_time": "2018-11-07T16:27:51.111607Z"
        },
        "id": "uTS1_-daU6FB",
        "colab_type": "code",
        "outputId": "ede02858-00fd-4454-924d-ac8904aa7e8e",
        "colab": {
          "base_uri": "https://localhost:8080/",
          "height": 34
        }
      },
      "cell_type": "code",
      "source": [
        "! wc -l submission.csv"
      ],
      "execution_count": 0,
      "outputs": [
        {
          "output_type": "stream",
          "text": [
            "112200 submission.csv\n"
          ],
          "name": "stdout"
        }
      ]
    },
    {
      "metadata": {
        "ExecuteTime": {
          "end_time": "2018-11-07T13:18:12.630549Z",
          "start_time": "2018-11-07T13:17:59.689315Z"
        },
        "id": "hG7p0P1cU6FK",
        "colab_type": "code",
        "outputId": "9bdd9111-11a7-4bef-d089-c1e620eab813",
        "colab": {
          "base_uri": "https://localhost:8080/",
          "height": 51
        }
      },
      "cell_type": "code",
      "source": [
        "# submit to kaggle\n",
        "! KAGGLE_USERNAME=lisavinograd8 KAGGLE_KEY=6fc23d78664dfcf69cc453535fae187b kaggle competitions submit quickdraw-doodle-recognition -f submission.csv -m \"My precious\""
      ],
      "execution_count": 0,
      "outputs": [
        {
          "output_type": "stream",
          "text": [
            "100% 4.41M/4.41M [00:06<00:00, 684kB/s]\n",
            "Successfully submitted to Quick, Draw! Doodle Recognition Challenge"
          ],
          "name": "stdout"
        }
      ]
    },
    {
      "metadata": {
        "id": "0ZFBcjBkaFCN",
        "colab_type": "code",
        "colab": {}
      },
      "cell_type": "code",
      "source": [
        ""
      ],
      "execution_count": 0,
      "outputs": []
    }
  ]
}